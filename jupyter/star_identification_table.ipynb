{
 "cells": [
  {
   "cell_type": "markdown",
   "metadata": {},
   "source": [
    "# Identifikacija zvezd\n",
    "\n",
    "Postopek določitve višine in azimuta za vse navigacijske zvezde za določen dan,uro in položaj z uporabo navtičnih efemerid\n",
    "\n",
    "## Kopiranje podatkov iz efemerid in njihovo parsanje\n",
    "\n",
    "Identifikacija zvezd poteka s pomočjo uporabe navtičnih Efemeridov, kjer dobimo za posamezen dan:\n",
    "1. **ime** zvezde\n",
    "2. **rektascenzio** ($\\text{Sha}_{\\star}$) zvezde\n",
    "3. **deklinacijo** ($\\delta_{\\star}$) zvezde\n",
    "4. **časovni kot** ($\\text{Sha}_{\\gamma}$) pomladišča\n",
    "\n",
    "Te podatke je nato potrebno pretvoriti v računalniško berljivo obliko, kar naredimo z naslednjimi funkcijami:\n",
    "- preberemo vrstico\n",
    "- parsamo iz vrstice: \n",
    "    * ime$_{\\star}$,\n",
    "    * $\\text{Sha}_{\\star}$,\n",
    "    * $\\delta_{\\star}$\n",
    "    \n",
    "Nato vse te podatke vstavimo v *list* trojic [['ime','sha','dec'],['ime','sha','dec'],...,['ime','sha','dec']] in izvozimo za nadaljno uporabo in procesiranje."
   ]
  },
  {
   "cell_type": "code",
   "execution_count": 34,
   "metadata": {},
   "outputs": [],
   "source": [
    "import numpy as np\n",
    "import matplotlib.pyplot as plt\n",
    "import re # Paket za Regular Expressions"
   ]
  },
  {
   "cell_type": "code",
   "execution_count": 88,
   "metadata": {},
   "outputs": [],
   "source": [
    "# convert str list ['dec','min','dec_min'] to float\n",
    "def str_to_float(fs):\n",
    "    \n",
    "    return int(fs[0]) + (int(fs[1]) + int(fs[2])/10)/60\n",
    "\n",
    "def degmin2degdec(ang):\n",
    "    \n",
    "    return ang[0] + ang[1]/60\n",
    "\n",
    "def degdec2degmin(dd):\n",
    "    \n",
    "    mf = np.modf(dd)\n",
    "    \n",
    "    return [int(dd(1)), mf(0)*60]\n",
    "\n",
    "def sortAzimuth(e):\n",
    "  return e['az']\n",
    "\n",
    "# read star data file and parse lines\n",
    "def read_data_file(file_name):\n",
    "    # opens file and reads lines\n",
    "    start_file = open(file_name, 'r') \n",
    "    Lines = start_file.readlines() \n",
    "\n",
    "    data_list = []\n",
    "    # Strips the newline character \n",
    "    for line in Lines: \n",
    "        l = line.strip() # clean newline character\n",
    "        \n",
    "        s_name = ''\n",
    "        s_sha = 0\n",
    "        s_dec = 0\n",
    "        \n",
    "        # parse star name\n",
    "        name = re.compile('[^0-9]+')\n",
    "        res = name.match(l)\n",
    "        if res != None:\n",
    "            s_name = res.group().strip()\n",
    "\n",
    "        # parse star sha & dec    \n",
    "        ang = re.compile('[^0-9]?[0-9]+[^0-9]?[0-9]+\\.[0-9]+')\n",
    "        sig_num = re.compile('[\\d()-]+')\n",
    "        res = ang.findall(l)\n",
    "        if res != None:\n",
    "            str_sha = sig_num.findall(res[0])\n",
    "            str_dec = sig_num.findall(res[1])\n",
    "            \n",
    "            s_sha = str_to_float(str_sha)\n",
    "            s_dec = str_to_float(str_dec)\n",
    "            \n",
    "        data_list.append([s_name, s_sha, s_dec])\n",
    "    \n",
    "    return data_list\n",
    "\n",
    "def star_alt_azimuth(star_data, fi, la, vGhaA, t, minH, maxH):\n",
    "    \n",
    "    N = star_data.shape[0]\n",
    "    td = degmin2degdec(t)\n",
    "    dGhaA1 = degmin2degdec(vGhaA[0])\n",
    "    dGhaA2 = degmin2degdec(vGhaA[1])\n",
    "    \n",
    "    if dGhaA2 > dGhaA1:\n",
    "        GhaA = dGhaA1 + (dGhaA2 - dGhaA1) * np.modf(td)[0]\n",
    "    else:\n",
    "        GhaA = dGhaA1 + (dGhaA2 + (360.0 - dGhaA1)) * np.modf(td)[0]\n",
    "        \n",
    "    if GhaA > 360.0:\n",
    "        GhaA -= 360.0\n",
    "        \n",
    "    LhaA = GhaA + degmin2degdec(la);\n",
    "    psi = (90.0 - degmin2degdec(fi)) * np.pi/180\n",
    "    \n",
    "    star_nhw = []\n",
    "    \n",
    "    for i in range(N):\n",
    "        name = star_data[i,0]\n",
    "        Sha = float(star_data[i,1])\n",
    "        Dec = float(star_data[i,2])\n",
    "        \n",
    "        p = (90 - Dec) * np.pi/180.0\n",
    "        Lha = np.fmod(LhaA + Sha, 360.0) * np.pi/180.0\n",
    "    \n",
    "        z = np.arccos(np.cos(psi) * np.cos(p) + np.sin(psi) * np.sin(p) * np.cos(Lha))\n",
    "        w = np.arccos((np.cos(p) - np.cos(z) * np.cos(psi))/(np.sin(z) * np.sin(psi)))\n",
    "        if Lha <= np.pi:\n",
    "            w = 2*np.pi - w\n",
    "            \n",
    "        #print('{}: h={:f}, w={:f}'.format(name, 90 - z*180/np.pi, w*180/np.pi))\n",
    "        \n",
    "        h = 90 - z*180/np.pi\n",
    "        w = w*180/np.pi\n",
    "        if h >= minH and h <= maxH:\n",
    "            star_nhw.append({'name':name, 'alt':h, 'az':w})\n",
    "        \n",
    "    return star_nhw"
   ]
  },
  {
   "cell_type": "code",
   "execution_count": 95,
   "metadata": {},
   "outputs": [
    {
     "name": "stdout",
     "output_type": "stream",
     "text": [
      "Polaris    h=46.50,  w= 0.7\n",
      "Capella    h=33.54,  w=56.2\n",
      "Mirfak     h=52.09,  w=62.5\n",
      "Hamal      h=51.78,  w=112.8\n",
      "Markab     h=58.64,  w=193.4\n",
      "Enif       h=47.02,  w=221.5\n",
      "Vega       h=36.77,  w=290.6\n",
      "Eltanin    h=37.32,  w=308.8\n",
      "Kochab     h=34.62,  w=345.4\n"
     ]
    },
    {
     "data": {
      "image/png": "[encoded data removed]",
      "text/plain": [
       "<Figure size 432x288 with 1 Axes>"
      ]
     },
     "metadata": {
      "needs_background": "light"
     },
     "output_type": "display_data"
    }
   ],
   "source": [
    "star_data = np.array(read_data_file('star_sha_dec.txt'))\n",
    "fi = [46, 6]\n",
    "la = [13, 40]\n",
    "GhaA = [[332, 25.7], [347, 28.2]]\n",
    "time = [19, 30, 0]\n",
    "minH = 30\n",
    "maxH = 60\n",
    "\n",
    "star_list = star_alt_azimuth(star_data, fi, la, GhaA, time, minH, maxH)\n",
    "star_list.sort(key=sortAzimuth)\n",
    "\n",
    "star_name = []\n",
    "star_h = []\n",
    "star_w =[]\n",
    "\n",
    "for star in star_list:\n",
    "    name = star['name']\n",
    "    h = star['alt']\n",
    "    w = star['az']\n",
    "    star_name.append(name)\n",
    "    star_h.append(h)\n",
    "    star_w.append(w)\n",
    "    print('{:10s} h={:3.2f},  w={:4.1f}'.format(name, h, w))\n",
    "\n",
    "plt.plot(star_w, star_h, '.')\n",
    "plt.grid(True)\n"
   ]
  },
  {
   "cell_type": "markdown",
   "metadata": {},
   "source": [
    "Nato je potrebno te podatke pretvoriti v zvezdino višino $\\text{H}_{\\star}$ in njen azimut $\\omega_{\\star}$, kjer moramo uporabiti še časovni kot pomladišča $\\text{Sha}_{\\gamma}$ in naš položaj ($\\varphi,\\lambda$)za pretvorbo."
   ]
  }
 ],
 "metadata": {
  "kernelspec": {
   "display_name": "Python 3",
   "language": "python",
   "name": "python3"
  },
  "language_info": {
   "codemirror_mode": {
    "name": "ipython",
    "version": 3
   },
   "file_extension": ".py",
   "mimetype": "text/x-python",
   "name": "python",
   "nbconvert_exporter": "python",
   "pygments_lexer": "ipython3",
   "version": "3.8.5"
  }
 },
 "nbformat": 4,
 "nbformat_minor": 4
}
