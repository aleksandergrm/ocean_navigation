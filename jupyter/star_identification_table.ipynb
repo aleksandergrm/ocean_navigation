{
 "cells": [
  {
   "cell_type": "markdown",
   "metadata": {},
   "source": [
    "# Identifikacija zvezd\n",
    "\n",
    "Postopek določitve višine in azimuta za vse navigacijske zvezde za določen dan,uro in položaj z uporabo navtičnih efemerid\n",
    "\n",
    "## Kopiranje podatkov iz efemerid in njihovo parsanje\n",
    "\n",
    "Identifikacija zvezd poteka s pomočjo uporabe navtičnih Efemeridov, kjer dobimo za posamezen dan:\n",
    "1. **ime** zvezde\n",
    "2. **rektascenzio** ($\\text{Sha}_{\\star}$) zvezde\n",
    "3. **deklinacijo** ($\\delta_{\\star}$) zvezde\n",
    "4. **časovni kot** ($\\text{Sha}_{\\gamma}$) pomladišča\n",
    "\n",
    "Te podatke je nato potrebno pretvoriti v računalniško berljivo obliko, kar naredimo z naslednjimi funkcijami:\n",
    "- preberemo vrstico\n",
    "- parsamo iz vrstice: \n",
    "    * ime$_{\\star}$,\n",
    "    * $\\text{Sha}_{\\star}$,\n",
    "    * $\\delta_{\\star}$\n",
    "    \n",
    "Nato vse te podatke vstavimo v *list* trojic [['ime','sha','dec'],['ime','sha','dec'],...,['ime','sha','dec']] in izvozimo za nadaljno uporabo in procesiranje."
   ]
  },
  {
   "cell_type": "code",
   "execution_count": 66,
   "metadata": {},
   "outputs": [],
   "source": [
    "import re # Paket za Regular Expressions"
   ]
  },
  {
   "cell_type": "code",
   "execution_count": 67,
   "metadata": {},
   "outputs": [],
   "source": [
    "# convert str list ['dec','min','dec_min'] to float\n",
    "def str_to_float(fs):\n",
    "    \n",
    "    return int(fs[0]) + (int(fs[1]) + int(fs[2])/10)/60\n",
    "\n",
    "# read star data file and parse lines\n",
    "def read_data_file(file_name):\n",
    "    # opens file and reads lines\n",
    "    start_file = open(file_name, 'r') \n",
    "    Lines = start_file.readlines() \n",
    "\n",
    "    data_list = []\n",
    "    # Strips the newline character \n",
    "    for line in Lines: \n",
    "        l = line.strip() # clean newline character\n",
    "        \n",
    "        s_name = ''\n",
    "        s_sha = 0\n",
    "        s_dec = 0\n",
    "        \n",
    "        # parse star name\n",
    "        name = re.compile('[^0-9]+')\n",
    "        res = name.match(l)\n",
    "        if res != None:\n",
    "            s_name = res.group().strip()\n",
    "\n",
    "        # parse star sha & dec    \n",
    "        ang = re.compile('[^0-9]?[0-9]+[^0-9]?[0-9]+\\.[0-9]+')\n",
    "        sig_num = re.compile('[\\d()-]+')\n",
    "        res = ang.findall(l)\n",
    "        if res != None:\n",
    "            str_sha = sig_num.findall(res[0])\n",
    "            str_dec = sig_num.findall(res[1])\n",
    "            \n",
    "            s_sha = str_to_float(str_sha)\n",
    "            s_dec = str_to_float(str_dec)\n",
    "            \n",
    "        data_list.append([s_name, s_sha, s_dec])\n",
    "    \n",
    "    return data_list"
   ]
  },
  {
   "cell_type": "code",
   "execution_count": 72,
   "metadata": {},
   "outputs": [
    {
     "data": {
      "text/plain": [
       "[['Alpheratz', 357.6333333333333, 29.206666666666667],\n",
       " ['Ankaa', 353.17, -41.803333333333335],\n",
       " ['Schedar', 349.57166666666666, 56.653333333333336],\n",
       " ['Diphda', 348.84166666666664, -16.126666666666665],\n",
       " ['Achernar', 335.37166666666667, -56.86666666666667],\n",
       " ['Hamal', 327.9116666666667, 23.56],\n",
       " ['Polaris', 315.08666666666664, 89.35],\n",
       " ['Acamar', 315.23333333333335, -39.778333333333336],\n",
       " ['Menkar', 314.1566666666667, 4.17],\n",
       " ['Mirfak', 308.54333333333335, 49.93333333333333],\n",
       " ['Aldebaran', 290.72, 16.55],\n",
       " ['Rigel', 281.115, -7.823333333333333],\n",
       " ['Capella', 280.44166666666666, 46.016666666666666],\n",
       " ['Bellatrix', 278.43833333333333, 6.368333333333333],\n",
       " ['Elnath', 278.09833333333336, 28.623333333333335],\n",
       " ['Alnilam', 275.6816666666667, -0.8116666666666666],\n",
       " ['Betelgeuse', 270.925, 7.41],\n",
       " ['Canopus', 263.89166666666665, -51.29666666666667],\n",
       " ['Sirius', 258.48333333333335, -15.256666666666666],\n",
       " ['Adhara', 255.13833333333332, -27.003333333333334],\n",
       " ['Procyon', 244.905, 5.171666666666667],\n",
       " ['Pollux', 243.35666666666665, 27.975],\n",
       " ['Avior', 234.265, -58.43],\n",
       " ['Suhail', 222.81333333333333, -42.49],\n",
       " ['Miaplacidus', 221.64666666666668, -68.205],\n",
       " ['Alphard', 217.85166666666666, -7.255],\n",
       " ['Regulus', 207.63666666666666, 11.866666666666667],\n",
       " ['Dubhe', 193.76166666666666, 61.63666666666667],\n",
       " ['Denebola', 182.47833333333332, 14.458333333333334],\n",
       " ['Gienah', 175.78833333333333, -16.346666666666668],\n",
       " ['Acrux', 173.07166666666666, -62.791666666666664],\n",
       " ['Gacrux', 171.93, -56.776666666666664],\n",
       " ['Alioth', 166.27666666666667, 55.846666666666664],\n",
       " ['Spica', 158.43666666666667, -10.735],\n",
       " ['Alkaid', 152.92166666666665, 49.211666666666666],\n",
       " ['Hadar', 148.69, -59.531666666666666],\n",
       " ['Menkent', 148.03333333333333, -35.531666666666666],\n",
       " ['Arcturus', 145.85666666666665, 19.076666666666668],\n",
       " ['Rigil Kent.', 139.76, -59.083333333333336],\n",
       " ['Kochab', 137.35333333333332, 74.07166666666667],\n",
       " ['Zuben’ubi', 137.00166666666667, -15.875],\n",
       " ['Alphecca', 126.11666666666666, 26.648333333333333],\n",
       " ['Antares', 112.33833333333334, -25.525],\n",
       " ['Atria', 107.30166666666666, -68.935],\n",
       " ['Sabik', 102.11666666666666, -14.251666666666667],\n",
       " ['Shaula', 96.255, -36.88166666666667],\n",
       " ['Rasalhague', 96.03333333333333, 12.548333333333334],\n",
       " ['Eltanin', 90.73666666666666, 51.49],\n",
       " ['Kaus Aust.', 83.62166666666667, -33.625],\n",
       " ['Vega', 80.59666666666666, 38.806666666666665],\n",
       " ['Nunki', 75.87, -25.73],\n",
       " ['Altair', 62.056666666666665, 8.926666666666666],\n",
       " ['Peacock', 53.18833333333333, -55.32833333333333],\n",
       " ['Deneb', 49.468333333333334, 45.358333333333334],\n",
       " ['Enif', 33.70166666666667, 9.971666666666666],\n",
       " ['Al Na’ir', 27.618333333333332, -45.13666666666667],\n",
       " ['Fomalhaut', 15.301666666666666, -28.485],\n",
       " ['Scheat', 13.805, 28.198333333333334],\n",
       " ['Markab', 13.551666666666666, 15.318333333333333]]"
      ]
     },
     "execution_count": 72,
     "metadata": {},
     "output_type": "execute_result"
    }
   ],
   "source": [
    "star_data = read_data_file('star_sha_dec.txt')"
   ]
  },
  {
   "cell_type": "markdown",
   "metadata": {},
   "source": [
    "Nato je potrebno te podatke pretvoriti v zvezdino višino $\\text{H}_{\\star}$ in njen azimut $\\omega_{\\star}$, kjer moramo uporabiti še časovni kot pomladišča $\\text{Sha}_{\\gamma}$ in naš položaj ($\\varphi,\\lambda$)za pretvorbo."
   ]
  }
 ],
 "metadata": {
  "kernelspec": {
   "display_name": "Python 3",
   "language": "python",
   "name": "python3"
  },
  "language_info": {
   "codemirror_mode": {
    "name": "ipython",
    "version": 3
   },
   "file_extension": ".py",
   "mimetype": "text/x-python",
   "name": "python",
   "nbconvert_exporter": "python",
   "pygments_lexer": "ipython3",
   "version": "3.8.5"
  }
 },
 "nbformat": 4,
 "nbformat_minor": 4
}
